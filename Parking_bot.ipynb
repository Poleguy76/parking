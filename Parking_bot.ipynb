{
 "cells": [
  {
   "cell_type": "code",
   "execution_count": 1,
   "id": "0b606a3e-6ffa-43db-9fc7-3260a4e7fbf6",
   "metadata": {},
   "outputs": [],
   "source": [
    "import telebot\n",
    "from telebot import types\n",
    "import pandas as pd\n",
    "import pandas.io.sql as sqlio\n",
    "import psycopg2 as ps"
   ]
  },
  {
   "cell_type": "code",
   "execution_count": 2,
   "id": "d4ff4119-2d9d-437e-8446-c623cc5f6a1f",
   "metadata": {},
   "outputs": [],
   "source": [
    "token = \"7639010467:AAG4D-qM36c4MPqlPKkCM_I6ACZNEHqZ9Os\"\n",
    "bot=telebot.TeleBot(token)"
   ]
  },
  {
   "cell_type": "code",
   "execution_count": 3,
   "id": "396d454a-8ac9-4ee8-974b-d7c3df8b4884",
   "metadata": {},
   "outputs": [],
   "source": [
    "conn2 = ps.connect(dbname = \"postgres\",#park_BD#postgres\n",
    "                    user = \"postgres\",\n",
    "                    password = \"1\",\n",
    "                    host = \"localhost\",\n",
    "                    port = \"5432\")\n",
    "#connection.autocommit = True"
   ]
  },
  {
   "cell_type": "code",
   "execution_count": null,
   "id": "709f3ab4-6b6a-4209-9389-7e420bbd0844",
   "metadata": {},
   "outputs": [],
   "source": [
    "###!!!!!!!!!!!!!!!!!!!!!!!!!!!!!!!!!!!!!!!!!!!!!!!!!!!!!!!!!!!###"
   ]
  },
  {
   "cell_type": "code",
   "execution_count": null,
   "id": "987b4a42-98a5-4726-a5bb-ad39082dc6a2",
   "metadata": {},
   "outputs": [],
   "source": [
    "###!!!!!!!!!!!!!!!!!!!!!!!!!!!!!!!!!!!!!!!!!!!!!!!!!!!!!!!!!!!###"
   ]
  },
  {
   "cell_type": "code",
   "execution_count": 4,
   "id": "a8c4024b-96b0-4b88-87c0-cc1dcd696d07",
   "metadata": {},
   "outputs": [],
   "source": [
    "def execute_read_query(connection, query):\n",
    "    cursor = connection.cursor()\n",
    "    result = None\n",
    "    cursor.execute(query)\n",
    "    result = cursor.fetchall()\n",
    "    df = pd.DataFrame(result)\n",
    "    return result,df\n"
   ]
  },
  {
   "cell_type": "code",
   "execution_count": 5,
   "id": "3ffddb19-2be7-4558-ab1d-172d7bf10ab3",
   "metadata": {},
   "outputs": [],
   "source": [
    "def insert(connection,chat_id):\n",
    "    connection.autocommit = True\n",
    "    cursor = connection.cursor()\n",
    "\n",
    "    select_users = \"\"\"SELECT * FROM table_1\"\"\"\n",
    "    cursor.execute(select_users)\n",
    "    results = cursor.fetchall()\n",
    "    \n",
    "    df = pd.DataFrame(results)\n",
    "    df.columns = ['ID','Chat_ID','Onlines','Zapros_Foto']\n",
    "    #return df\n",
    "    count_banana_all = (df['Chat_ID'] == chat_id).sum()\n",
    "    if count_banana_all > 0:\n",
    "        update_users = (f\"\"\"UPDATE table_1 SET \"Onlines\" = True WHERE \"Chat_ID\" ={chat_id};\"\"\")\n",
    "        cursor.execute(update_users)\n",
    "    else:\n",
    "        id_num = df['Chat_ID'].count() + 1\n",
    "        insert_query = (f\"\"\"INSERT INTO public.table_1(\"ID\", \"Chat_ID\", \"Onlines\", \"Zapros_Foto\")VALUES ({id_num}, {chat_id}, True, False);\"\"\")\n",
    "        cursor.execute(insert_query)"
   ]
  },
  {
   "cell_type": "code",
   "execution_count": 6,
   "id": "31da2423-f048-409b-89cb-9cc3da3db11c",
   "metadata": {},
   "outputs": [],
   "source": [
    "def stoped(connection,chat_id):\n",
    "    connection.autocommit = True\n",
    "    cursor = connection.cursor()\n",
    "\n",
    "    update_users = (f\"\"\"UPDATE table_1 SET \"Onlines\" = False WHERE \"Chat_ID\" ={chat_id};\"\"\")\n",
    "    cursor.execute(update_users)"
   ]
  },
  {
   "cell_type": "code",
   "execution_count": 7,
   "id": "1ec3c21c-cc2f-4553-82a7-37a356b98b2f",
   "metadata": {},
   "outputs": [],
   "source": [
    "def foto(connection,chat_id):\n",
    "    connection.autocommit = True\n",
    "    cursor = connection.cursor()\n",
    "\n",
    "    update_users = (f\"\"\"UPDATE table_1 SET \"Zapros_Foto\" = True WHERE \"Chat_ID\" ={chat_id};\"\"\")\n",
    "    cursor.execute(update_users)    "
   ]
  },
  {
   "cell_type": "code",
   "execution_count": 8,
   "id": "9849dcfa-448c-484a-af26-43b55dffb2ed",
   "metadata": {},
   "outputs": [],
   "source": [
    "@bot.message_handler(commands=['start'])\n",
    "def send_welcome(message):\n",
    "    chat_id = message.from_user.id\n",
    "    insert(conn2,chat_id)\n",
    "    bot.send_message(message.chat.id, f'Рады видеть в нашем боте :) {chat_id}')\n",
    "\n",
    "@bot.message_handler(commands=['stop'])\n",
    "def send_welcome(message):\n",
    "    chat_id = message.from_user.id\n",
    "    stoped(conn2,chat_id)\n",
    "    bot.send_message(message.chat.id, f'Спасибо что воспользовались нашим ботом. Пока:( {chat_id}')\n",
    "\n",
    "@bot.message_handler(commands=['foto'])\n",
    "def send_welcome(message):\n",
    "    chat_id = message.from_user.id\n",
    "    foto(conn2,chat_id)\n",
    "    bot.send_message(message.chat.id, f'Вот твоё фото :) {chat_id}')"
   ]
  },
  {
   "cell_type": "code",
   "execution_count": null,
   "id": "99b94a74-9677-4e6c-9def-e011d5ad30ef",
   "metadata": {},
   "outputs": [],
   "source": [
    "bot.polling(none_stop = True)"
   ]
  }
 ],
 "metadata": {
  "kernelspec": {
   "display_name": "Python 3 (ipykernel)",
   "language": "python",
   "name": "python3"
  },
  "language_info": {
   "codemirror_mode": {
    "name": "ipython",
    "version": 3
   },
   "file_extension": ".py",
   "mimetype": "text/x-python",
   "name": "python",
   "nbconvert_exporter": "python",
   "pygments_lexer": "ipython3",
   "version": "3.10.7"
  }
 },
 "nbformat": 4,
 "nbformat_minor": 5
}
