{
 "cells": [
  {
   "cell_type": "code",
   "execution_count": 2,
   "id": "23489573-afcd-4dc2-832c-3d8ba009b21c",
   "metadata": {},
   "outputs": [],
   "source": [
    "import os\n",
    "import time"
   ]
  },
  {
   "cell_type": "code",
   "execution_count": null,
   "id": "764e0b8c-31f5-4411-a771-080e03b7c18a",
   "metadata": {},
   "outputs": [],
   "source": [
    "### !!!!!!!!!!!!!!!!!!!!!!!!!!!!!!!!!!!!!!!!!!!!!!!!!!!!!!!!!!!!!!!! ###"
   ]
  },
  {
   "cell_type": "code",
   "execution_count": null,
   "id": "bf8033b7-8f6d-4c80-8444-2d62290f7e5a",
   "metadata": {
    "scrolled": true
   },
   "outputs": [
    {
     "name": "stdout",
     "output_type": "stream",
     "text": [
      "1\n",
      "22\n",
      "22\n",
      "22\n",
      "22\n",
      "22\n",
      "22\n",
      "22\n",
      "22\n",
      "22\n",
      "22\n",
      "22\n",
      "22\n",
      "22\n",
      "22\n",
      "22\n",
      "22\n",
      "22\n",
      "22\n",
      "22\n",
      "22\n",
      "22\n",
      "22\n",
      "22\n",
      "22\n"
     ]
    }
   ],
   "source": [
    "#таймеры ожидания возможно нужно подкорректировать т.к еще не тестировал\n",
    "time.sleep(5)\n",
    "try:\n",
    "    os.remove(r'D:\\UOD\\Видосы_с_камеры\\output_1.mp4')\n",
    "    os.remove(r'D:\\UOD\\Видосы_с_камеры\\output_2.mp4')\n",
    "    os.system(r'ffmpeg -f dshow -r 25 -i video=\"screen-capture-recorder\" -vframes 225 D:\\UOD\\Видосы_с_камеры\\output_1.mp4')#375\n",
    "except: \n",
    "    os.remove(r'D:\\UOD\\Видосы_с_камеры\\output_2.mp4')\n",
    "    time.sleep(12)\n",
    "print(1)\n",
    "\n",
    "\n",
    "while True:\n",
    "    if not os.path.isfile('D:/UOD/Видосы_с_камеры/output_1.mp4'):\n",
    "        os.system(r'ffmpeg -f dshow -r 25 -i video=\"screen-capture-recorder\" -vframes 225 D:\\UOD\\Видосы_с_камеры\\output_1.mp4')\n",
    "        time.sleep(12)\n",
    "        n = 0 \n",
    "        while n != 1:\n",
    "            try:\n",
    "                os.remove(r'D:\\UOD\\Видосы_с_камеры\\output_2.mp4')\n",
    "                n = n+1\n",
    "                print(1_1)\n",
    "            except:\n",
    "                time.sleep(1)\n",
    "                print(1_2)\n",
    "        print(12)\n",
    "    elif not os.path.isfile('D:/UOD/Видосы_с_камеры/output_2.mp4'):\n",
    "        os.system(r'ffmpeg -f dshow -r 25 -i video=\"screen-capture-recorder\" -vframes 225 D:\\UOD\\Видосы_с_камеры\\output_2.mp4')\n",
    "        time.sleep(12)\n",
    "        n = 0\n",
    "        while n != 1:\n",
    "            try:\n",
    "                os.remove(r'D:\\UOD\\Видосы_с_камеры\\output_1.mp4')\n",
    "                n = n+1\n",
    "                print(2_1)\n",
    "            except:\n",
    "                time.sleep(1)\n",
    "                print(2_2)\n",
    "        print(2)"
   ]
  },
  {
   "cell_type": "code",
   "execution_count": null,
   "id": "3237de23-7fe8-4614-9c2a-6ad98878ddc7",
   "metadata": {},
   "outputs": [],
   "source": [
    "### !!!!!!!!!!!!!!!!!!!!!!!!!!!!!!!!!!!!!!!!!!!!!!!!!!!!!!!!!!!!!!!! ###"
   ]
  },
  {
   "cell_type": "code",
   "execution_count": 4,
   "id": "6dde7e54-1239-40b6-a285-8ce872bb91f3",
   "metadata": {},
   "outputs": [
    {
     "name": "stdout",
     "output_type": "stream",
     "text": [
      "1\n"
     ]
    }
   ],
   "source": [
    "time.sleep(5)\n",
    "#os.remove(r'D:\\UOD\\Видосы_с_камеры\\output_1.mp4')\n",
    "#os.remove(r'D:\\UOD\\Видосы_с_камеры\\output_2.mp4')\n",
    "os.system(r'ffmpeg -f dshow -r 25 -i video=\"screen-capture-recorder\" -vframes 225 D:\\UOD\\Видосы_с_камеры\\output_1.mp4')#375\n",
    "os.system(r'ffmpeg -f dshow -r 25 -i video=\"screen-capture-recorder\" -vframes 225 D:\\UOD\\Видосы_с_камеры\\output_2.mp4')#375\n",
    "print(1)"
   ]
  },
  {
   "cell_type": "code",
   "execution_count": 4,
   "id": "d1b186e7-932a-4590-9764-06c7393cb146",
   "metadata": {},
   "outputs": [
    {
     "data": {
      "text/plain": [
       "0"
      ]
     },
     "execution_count": 4,
     "metadata": {},
     "output_type": "execute_result"
    }
   ],
   "source": [
    "time.sleep(5)\n",
    "os.system(r'ffmpeg -f dshow -r 25 -i video=\"screen-capture-recorder\" -vframes 225 D:\\UOD\\Видосы_с_камеры\\output_1.mp4')"
   ]
  }
 ],
 "metadata": {
  "kernelspec": {
   "display_name": "Python 3 (ipykernel)",
   "language": "python",
   "name": "python3"
  },
  "language_info": {
   "codemirror_mode": {
    "name": "ipython",
    "version": 3
   },
   "file_extension": ".py",
   "mimetype": "text/x-python",
   "name": "python",
   "nbconvert_exporter": "python",
   "pygments_lexer": "ipython3",
   "version": "3.10.7"
  }
 },
 "nbformat": 4,
 "nbformat_minor": 5
}
